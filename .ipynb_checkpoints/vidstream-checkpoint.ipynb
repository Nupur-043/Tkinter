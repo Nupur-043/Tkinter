{
 "cells": [
  {
   "cell_type": "code",
   "execution_count": 1,
   "id": "f3327704",
   "metadata": {},
   "outputs": [
    {
     "ename": "ModuleNotFoundError",
     "evalue": "No module named 'vidstream'",
     "output_type": "error",
     "traceback": [
      "\u001b[1;31m---------------------------------------------------------------------------\u001b[0m",
      "\u001b[1;31mModuleNotFoundError\u001b[0m                       Traceback (most recent call last)",
      "Cell \u001b[1;32mIn[1], line 1\u001b[0m\n\u001b[1;32m----> 1\u001b[0m \u001b[38;5;28;01mimport\u001b[39;00m \u001b[38;5;21;01mvidstream\u001b[39;00m\n",
      "\u001b[1;31mModuleNotFoundError\u001b[0m: No module named 'vidstream'"
     ]
    }
   ],
   "source": [
    "import vidstream\n"
   ]
  },
  {
   "cell_type": "code",
   "execution_count": 2,
   "id": "124dc65a",
   "metadata": {},
   "outputs": [
    {
     "ename": "ModuleNotFoundError",
     "evalue": "No module named 'vidstream'",
     "output_type": "error",
     "traceback": [
      "\u001b[1;31m---------------------------------------------------------------------------\u001b[0m",
      "\u001b[1;31mModuleNotFoundError\u001b[0m                       Traceback (most recent call last)",
      "Cell \u001b[1;32mIn[2], line 1\u001b[0m\n\u001b[1;32m----> 1\u001b[0m \u001b[38;5;28;01mfrom\u001b[39;00m \u001b[38;5;21;01mvidstream\u001b[39;00m \u001b[38;5;28;01mimport\u001b[39;00m StreamingServer\n",
      "\u001b[1;31mModuleNotFoundError\u001b[0m: No module named 'vidstream'"
     ]
    }
   ],
   "source": [
    "from vidstream import StreamingServer"
   ]
  },
  {
   "cell_type": "code",
   "execution_count": 3,
   "id": "f7200aa3",
   "metadata": {},
   "outputs": [
    {
     "name": "stdout",
     "output_type": "stream",
     "text": [
      "Defaulting to user installation because normal site-packages is not writeable\n",
      "Collecting vidstream\n",
      "  Downloading vidstream-0.0.14-py3-none-any.whl (8.0 kB)\n",
      "Collecting pyautogui\n",
      "  Downloading PyAutoGUI-0.9.54.tar.gz (61 kB)\n",
      "     -------------------------------------- 61.2/61.2 kB 148.7 kB/s eta 0:00:00\n",
      "  Installing build dependencies: started\n",
      "  Installing build dependencies: finished with status 'done'\n",
      "  Getting requirements to build wheel: started\n",
      "  Getting requirements to build wheel: finished with status 'done'\n",
      "  Preparing metadata (pyproject.toml): started\n",
      "  Preparing metadata (pyproject.toml): finished with status 'done'\n",
      "Collecting pyaudio\n",
      "  Downloading PyAudio-0.2.13-cp310-cp310-win_amd64.whl (164 kB)\n",
      "     ------------------------------------ 164.1/164.1 kB 328.0 kB/s eta 0:00:00\n",
      "Collecting opencv-python\n",
      "  Downloading opencv_python-4.8.1.78-cp37-abi3-win_amd64.whl (38.1 MB)\n",
      "     ---------------------------------------- 38.1/38.1 MB 5.8 MB/s eta 0:00:00\n",
      "Requirement already satisfied: numpy>=1.19.3 in c:\\programdata\\anaconda3\\lib\\site-packages (from opencv-python->vidstream) (1.23.5)\n",
      "Collecting pytweening>=1.0.4\n",
      "  Downloading pytweening-1.0.7.tar.gz (168 kB)\n",
      "     ------------------------------------ 168.2/168.2 kB 778.0 kB/s eta 0:00:00\n",
      "  Preparing metadata (setup.py): started\n",
      "  Preparing metadata (setup.py): finished with status 'done'\n",
      "Collecting pymsgbox\n",
      "  Downloading PyMsgBox-1.0.9.tar.gz (18 kB)\n",
      "  Installing build dependencies: started\n",
      "  Installing build dependencies: finished with status 'done'\n",
      "  Getting requirements to build wheel: started\n",
      "  Getting requirements to build wheel: finished with status 'done'\n",
      "  Preparing metadata (pyproject.toml): started\n",
      "  Preparing metadata (pyproject.toml): finished with status 'done'\n",
      "Collecting pyscreeze>=0.1.21\n",
      "  Downloading PyScreeze-0.1.29.tar.gz (25 kB)\n",
      "  Installing build dependencies: started\n",
      "  Installing build dependencies: finished with status 'done'\n",
      "  Getting requirements to build wheel: started\n",
      "  Getting requirements to build wheel: finished with status 'done'\n",
      "  Preparing metadata (pyproject.toml): started\n",
      "  Preparing metadata (pyproject.toml): finished with status 'done'\n",
      "Collecting pygetwindow>=0.0.5\n",
      "  Downloading PyGetWindow-0.0.9.tar.gz (9.7 kB)\n",
      "  Preparing metadata (setup.py): started\n",
      "  Preparing metadata (setup.py): finished with status 'done'\n",
      "Collecting mouseinfo\n",
      "  Downloading MouseInfo-0.1.3.tar.gz (10 kB)\n",
      "  Preparing metadata (setup.py): started\n",
      "  Preparing metadata (setup.py): finished with status 'done'\n",
      "Collecting pyrect\n",
      "  Downloading PyRect-0.2.0.tar.gz (17 kB)\n",
      "  Preparing metadata (setup.py): started\n",
      "  Preparing metadata (setup.py): finished with status 'done'\n",
      "Collecting pyscreenshot\n",
      "  Downloading pyscreenshot-3.1-py3-none-any.whl (28 kB)\n",
      "Requirement already satisfied: Pillow>=9.2.0 in c:\\programdata\\anaconda3\\lib\\site-packages (from pyscreeze>=0.1.21->pyautogui->vidstream) (9.4.0)\n",
      "Collecting pyperclip\n",
      "  Downloading pyperclip-1.8.2.tar.gz (20 kB)\n",
      "  Preparing metadata (setup.py): started\n",
      "  Preparing metadata (setup.py): finished with status 'done'\n",
      "Collecting EasyProcess\n",
      "  Downloading EasyProcess-1.1-py3-none-any.whl (8.7 kB)\n",
      "Collecting entrypoint2\n",
      "  Downloading entrypoint2-1.1-py2.py3-none-any.whl (9.9 kB)\n",
      "Collecting mss\n",
      "  Downloading mss-9.0.1-py3-none-any.whl (22 kB)\n",
      "Building wheels for collected packages: pyautogui, pygetwindow, pyscreeze, pytweening, mouseinfo, pymsgbox, pyperclip, pyrect\n",
      "  Building wheel for pyautogui (pyproject.toml): started\n",
      "  Building wheel for pyautogui (pyproject.toml): finished with status 'done'\n",
      "  Created wheel for pyautogui: filename=PyAutoGUI-0.9.54-py3-none-any.whl size=37597 sha256=c946e9d09e81daf76f9b3a52d346a0e238c520e5ef6f35d9d880faba52dd9019\n",
      "  Stored in directory: c:\\users\\kiit\\appdata\\local\\pip\\cache\\wheels\\27\\ae\\44\\6ed17dd0eb2109b293dfd896e6b32176a662472e9ec276e911\n",
      "  Building wheel for pygetwindow (setup.py): started\n",
      "  Building wheel for pygetwindow (setup.py): finished with status 'done'\n",
      "  Created wheel for pygetwindow: filename=PyGetWindow-0.0.9-py3-none-any.whl size=11079 sha256=32aaf707f54fd28b584622d343b9caf0145cc49b756da7a92d1a5b82d5941269\n",
      "  Stored in directory: c:\\users\\kiit\\appdata\\local\\pip\\cache\\wheels\\b4\\ba\\41\\c09cef95c23cdfed6af9df7328306fafbf27df2e77b14d25d7\n",
      "  Building wheel for pyscreeze (pyproject.toml): started\n",
      "  Building wheel for pyscreeze (pyproject.toml): finished with status 'done'\n",
      "  Created wheel for pyscreeze: filename=PyScreeze-0.1.29-py3-none-any.whl size=13484 sha256=b5c54272399ab2f0221e57b73af31af5c8ef12892776119aef7ed8ce85870f05\n",
      "  Stored in directory: c:\\users\\kiit\\appdata\\local\\pip\\cache\\wheels\\b9\\76\\96\\c84d250d637354da1dfd1a3c255b2df6e30c192354d08af1b8\n",
      "  Building wheel for pytweening (setup.py): started\n",
      "  Building wheel for pytweening (setup.py): finished with status 'done'\n",
      "  Created wheel for pytweening: filename=pytweening-1.0.7-py3-none-any.whl size=6214 sha256=2d826b4f227d0df3af5ca73e38480b899b8c7209cb9f6e25925e5744c382fa72\n",
      "  Stored in directory: c:\\users\\kiit\\appdata\\local\\pip\\cache\\wheels\\c6\\4a\\25\\8e83858414a3d4f8d69cb04f86501b11160106b05fc9c8063b\n",
      "  Building wheel for mouseinfo (setup.py): started\n",
      "  Building wheel for mouseinfo (setup.py): finished with status 'done'\n",
      "  Created wheel for mouseinfo: filename=MouseInfo-0.1.3-py3-none-any.whl size=10906 sha256=e8b32713e3007136489275f937aa5b1526f5778acdaa09d2a24e54004a878fdf\n",
      "  Stored in directory: c:\\users\\kiit\\appdata\\local\\pip\\cache\\wheels\\52\\e8\\77\\5f70ba97301c6d825754eea9f12f0ffd00e119fba64a68f4d2\n",
      "  Building wheel for pymsgbox (pyproject.toml): started\n",
      "  Building wheel for pymsgbox (pyproject.toml): finished with status 'done'\n",
      "  Created wheel for pymsgbox: filename=PyMsgBox-1.0.9-py3-none-any.whl size=7417 sha256=a30eff214b19e03baf821b480cc058d2b1b4a6d2cc981ca66a2c204b2f21b865\n",
      "  Stored in directory: c:\\users\\kiit\\appdata\\local\\pip\\cache\\wheels\\97\\61\\22\\1a0de2324b204d675c5bfb28b944101eb48dcf1a1fe87bcce7\n",
      "  Building wheel for pyperclip (setup.py): started\n",
      "  Building wheel for pyperclip (setup.py): finished with status 'done'\n",
      "  Created wheel for pyperclip: filename=pyperclip-1.8.2-py3-none-any.whl size=11137 sha256=b0dab201961a9e13df65b5c40197026179edc336135da4a2f9fb3500bf6d8080\n",
      "  Stored in directory: c:\\users\\kiit\\appdata\\local\\pip\\cache\\wheels\\3c\\77\\81\\aaa2802e9b0553585f2789c6f2756b50a09a01d2848423bb15\n",
      "  Building wheel for pyrect (setup.py): started\n",
      "  Building wheel for pyrect (setup.py): finished with status 'done'\n",
      "  Created wheel for pyrect: filename=PyRect-0.2.0-py2.py3-none-any.whl size=11205 sha256=765198e047594683dc9e73f97b668bb14e8c5bc8b2582128a1d5c6fc2aa87df9\n",
      "  Stored in directory: c:\\users\\kiit\\appdata\\local\\pip\\cache\\wheels\\63\\0e\\55\\adb1553ad973caacffc0bd779f74f4749f904da246674a26a1\n",
      "Successfully built pyautogui pygetwindow pyscreeze pytweening mouseinfo pymsgbox pyperclip pyrect\n",
      "Installing collected packages: pytweening, pyrect, pyperclip, pymsgbox, pyaudio, entrypoint2, EasyProcess, pygetwindow, opencv-python, mss, mouseinfo, pyscreenshot, pyscreeze, pyautogui, vidstream\n",
      "Successfully installed EasyProcess-1.1 entrypoint2-1.1 mouseinfo-0.1.3 mss-9.0.1 opencv-python-4.8.1.78 pyaudio-0.2.13 pyautogui-0.9.54 pygetwindow-0.0.9 pymsgbox-1.0.9 pyperclip-1.8.2 pyrect-0.2.0 pyscreenshot-3.1 pyscreeze-0.1.29 pytweening-1.0.7 vidstream-0.0.14\n"
     ]
    },
    {
     "name": "stderr",
     "output_type": "stream",
     "text": [
      "  WARNING: The script mss.exe is installed in 'C:\\Users\\KIIT\\AppData\\Roaming\\Python\\Python310\\Scripts' which is not on PATH.\n",
      "  Consider adding this directory to PATH or, if you prefer to suppress this warning, use --no-warn-script-location.\n"
     ]
    }
   ],
   "source": [
    "!pip install vidstream\n"
   ]
  },
  {
   "cell_type": "code",
   "execution_count": 4,
   "id": "daa3bf7e",
   "metadata": {},
   "outputs": [
    {
     "ename": "SyntaxError",
     "evalue": "invalid syntax (3063137522.py, line 1)",
     "output_type": "error",
     "traceback": [
      "\u001b[1;36m  Cell \u001b[1;32mIn[4], line 1\u001b[1;36m\u001b[0m\n\u001b[1;33m    pip install vidstream --no-warn-script-location\u001b[0m\n\u001b[1;37m        ^\u001b[0m\n\u001b[1;31mSyntaxError\u001b[0m\u001b[1;31m:\u001b[0m invalid syntax\n"
     ]
    }
   ],
   "source": [
    "pip install vidstream --no-warn-script-location\n",
    "\n"
   ]
  },
  {
   "cell_type": "code",
   "execution_count": 5,
   "id": "4ec54d81",
   "metadata": {},
   "outputs": [],
   "source": [
    "from vidstream import StreamingServer\n"
   ]
  },
  {
   "cell_type": "code",
   "execution_count": 6,
   "id": "bc1575a9",
   "metadata": {},
   "outputs": [],
   "source": [
    "from vidstream import *"
   ]
  },
  {
   "cell_type": "code",
   "execution_count": 7,
   "id": "541a9e6d",
   "metadata": {},
   "outputs": [],
   "source": [
    "import tkinter as tk\n",
    "import socket\n",
    "import threading \n",
    "#threading is needed because we have to make many connections \n",
    "#we are going to have an audio stream that we send \n",
    "#we are going to have an audio stream that we recieve\n",
    "#we are going to have camera data that we send ,\n",
    "#camera data that we recieve\n"
   ]
  },
  {
   "cell_type": "code",
   "execution_count": 8,
   "id": "7bc88496",
   "metadata": {},
   "outputs": [],
   "source": [
    "local_ip_address=socket.gethostbyname(socket.gethostname())"
   ]
  },
  {
   "cell_type": "code",
   "execution_count": 9,
   "id": "d9fac726",
   "metadata": {},
   "outputs": [],
   "source": [
    "import requests #for publlic ip address "
   ]
  },
  {
   "cell_type": "code",
   "execution_count": null,
   "id": "9b784a42",
   "metadata": {},
   "outputs": [],
   "source": [
    "#server=StreamingServer('172.27.240.1',8888)\n"
   ]
  },
  {
   "cell_type": "code",
   "execution_count": 10,
   "id": "88352394",
   "metadata": {},
   "outputs": [
    {
     "name": "stdout",
     "output_type": "stream",
     "text": [
      "10.2.0.2\n"
     ]
    }
   ],
   "source": [
    "print(local_ip_address)"
   ]
  },
  {
   "cell_type": "code",
   "execution_count": 14,
   "id": "8e34ed58",
   "metadata": {},
   "outputs": [],
   "source": [
    "#GUI\n",
    "\n",
    "\n",
    "window = tk.Tk()\n",
    "window.title(\"Project Trial\")\n",
    "window.geometry('300x200')\n",
    "\n",
    "label_target_ip = tk.Label(window, text=\"Target IP:\")\n",
    "label_target_ip.pack()\n",
    "\n",
    "text_target_ip = tk.Text(window, height=1)\n",
    "text_target_ip.pack() #he pack() method is then used to place the \n",
    "#button in the window,\n",
    "\n",
    "#window: This specifies the parent window (in this case, window)\n",
    "#, which is where the button will be placed.\n",
    "#to process the incoming data listen is used \n",
    "#the client is not going to get any streams \n",
    "btn_listen = tk.Button(window, text=\"Start Listening\", width=50)\n",
    "btn_listen.pack(anchor=tk.CENTER, expand=True)\n",
    "\n",
    "#3 other buttons that says start camera stream, start screen sharing stream\n",
    "#start the audio stream\n",
    "#this buttons are part of window so (window, ......)\n",
    "#anchor so it is placed in center\n",
    "btn_camera = tk.Button(window, text=\"Start Camera Stream\", width=50)\n",
    "btn_camera.pack(anchor=tk.CENTER, expand=True)\n",
    "\n",
    "#anchor=tk.CENTER: This specifies how the button should be \n",
    "#anchored within the space allocated to it. \n",
    "btn_screen = tk.Button(window, text=\"Start Screen Sharing\", width=50)\n",
    "btn_screen.pack(anchor=tk.CENTER, expand=True)\n",
    "\n",
    "#width=50: This sets the width of the button in characters. \n",
    "#It specifies that the button should be 50 characters wide\n",
    "\n",
    "btn_audio = tk.Button(window, text=\"Start Audio Stream\", width=50)\n",
    "btn_audio.pack(anchor=tk.CENTER, expand=True)\n",
    "\n",
    "window.mainloop()"
   ]
  },
  {
   "cell_type": "code",
   "execution_count": null,
   "id": "c4abe65d",
   "metadata": {},
   "outputs": [],
   "source": []
  }
 ],
 "metadata": {
  "kernelspec": {
   "display_name": "Python 3 (ipykernel)",
   "language": "python",
   "name": "python3"
  },
  "language_info": {
   "codemirror_mode": {
    "name": "ipython",
    "version": 3
   },
   "file_extension": ".py",
   "mimetype": "text/x-python",
   "name": "python",
   "nbconvert_exporter": "python",
   "pygments_lexer": "ipython3",
   "version": "3.10.9"
  }
 },
 "nbformat": 4,
 "nbformat_minor": 5
}
